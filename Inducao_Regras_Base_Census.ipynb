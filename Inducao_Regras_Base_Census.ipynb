{
  "nbformat": 4,
  "nbformat_minor": 0,
  "metadata": {
    "colab": {
      "name": "Inducao-Regras-Base-Census.ipynb",
      "provenance": [],
      "authorship_tag": "ABX9TyOEm22JeNvoIQ0Xc3j7Tp6B",
      "include_colab_link": true
    },
    "kernelspec": {
      "name": "python3",
      "display_name": "Python 3"
    },
    "language_info": {
      "name": "python"
    }
  },
  "cells": [
    {
      "cell_type": "markdown",
      "metadata": {
        "id": "view-in-github",
        "colab_type": "text"
      },
      "source": [
        "<a href=\"https://colab.research.google.com/github/jscienciadados/rule-induction/blob/main/Inducao_Regras_Base_Census.ipynb\" target=\"_parent\"><img src=\"https://colab.research.google.com/assets/colab-badge.svg\" alt=\"Open In Colab\"/></a>"
      ]
    },
    {
      "cell_type": "markdown",
      "metadata": {
        "id": "OKkvVMlmbA1P"
      },
      "source": [
        "##Indução de Regras "
      ]
    },
    {
      "cell_type": "code",
      "metadata": {
        "id": "owyjPMCba0h5"
      },
      "source": [
        "# Instalação do pacote Orange3\n",
        "!pip install Orange3"
      ],
      "execution_count": null,
      "outputs": []
    },
    {
      "cell_type": "code",
      "metadata": {
        "id": "RNq41MqrbUN0"
      },
      "source": [
        "import Orange"
      ],
      "execution_count": 2,
      "outputs": []
    },
    {
      "cell_type": "markdown",
      "metadata": {
        "id": "P-vDlRV7b4Xl"
      },
      "source": [
        "# Carregando os dados"
      ]
    },
    {
      "cell_type": "code",
      "metadata": {
        "colab": {
          "base_uri": "https://localhost:8080/"
        },
        "id": "2zQYnxQMbih4",
        "outputId": "3b7eec52-1289-40e4-8395-ee65e107e3da"
      },
      "source": [
        "base_census = Orange.data.Table('/content/dados/census_regras.csv')"
      ],
      "execution_count": 3,
      "outputs": [
        {
          "output_type": "stream",
          "text": [
            "/usr/local/lib/python3.7/dist-packages/psycopg2/__init__.py:144: UserWarning: The psycopg2 wheel package will be renamed from release 2.8; in order to keep installing from binary please use \"pip install psycopg2-binary\" instead. For details see: <http://initd.org/psycopg/docs/install.html#binary-install-from-pypi>.\n",
            "  \"\"\")\n"
          ],
          "name": "stderr"
        }
      ]
    },
    {
      "cell_type": "markdown",
      "metadata": {
        "id": "MSov-GG5cvVT"
      },
      "source": [
        "# Verificando o dominio"
      ]
    },
    {
      "cell_type": "code",
      "metadata": {
        "colab": {
          "base_uri": "https://localhost:8080/"
        },
        "id": "2x5WnsF2czMt",
        "outputId": "2bc40189-bb19-43fe-c4b8-c9af4bfe5a56"
      },
      "source": [
        "base_census.domain"
      ],
      "execution_count": 7,
      "outputs": [
        {
          "output_type": "execute_result",
          "data": {
            "text/plain": [
              "[age, workclass, final-weight, education, education-num, marital-status, occupation, relationship, race, sex, capital-gain, capital-loos, hour-per-week, native-country | income]"
            ]
          },
          "metadata": {
            "tags": []
          },
          "execution_count": 7
        }
      ]
    },
    {
      "cell_type": "markdown",
      "metadata": {
        "id": "mOmqVt0zcRur"
      },
      "source": [
        "# Visualizando os dados"
      ]
    },
    {
      "cell_type": "code",
      "metadata": {
        "colab": {
          "base_uri": "https://localhost:8080/"
        },
        "id": "Ml5CebBFcJxq",
        "outputId": "b8aa86ac-21b6-4899-f3a9-6d863c4384ee"
      },
      "source": [
        "base_census"
      ],
      "execution_count": 4,
      "outputs": [
        {
          "output_type": "execute_result",
          "data": {
            "text/plain": [
              "[[39, State-gov, 77516, Bachelors, 13, ... | <=50K],\n",
              " [50, Self-emp-not-inc, 83311, Bachelors, 13, ... | <=50K],\n",
              " [38, Private, 215646, HS-grad, 9, ... | <=50K],\n",
              " [53, Private, 234721, 11th, 7, ... | <=50K],\n",
              " [28, Private, 338409, Bachelors, 13, ... | <=50K],\n",
              " ...\n",
              "]"
            ]
          },
          "metadata": {
            "tags": []
          },
          "execution_count": 4
        }
      ]
    },
    {
      "cell_type": "markdown",
      "metadata": {
        "id": "Jayzq9XScdFK"
      },
      "source": [
        "# dividindo a base de dados"
      ]
    },
    {
      "cell_type": "code",
      "metadata": {
        "id": "-T0xwkaqcNnF"
      },
      "source": [
        "base_dividida = Orange.evaluation.testing.sample(base_census, n = 0.30)"
      ],
      "execution_count": 5,
      "outputs": []
    },
    {
      "cell_type": "code",
      "metadata": {
        "colab": {
          "base_uri": "https://localhost:8080/"
        },
        "id": "8oxNHEdmcmuv",
        "outputId": "e359b5ee-1ad9-4d45-c4b0-3c4be3553656"
      },
      "source": [
        "base_dividida"
      ],
      "execution_count": 6,
      "outputs": [
        {
          "output_type": "execute_result",
          "data": {
            "text/plain": [
              "([[52, Private, 115851, HS-grad, 9, ... | <=50K],\n",
              "  [51, Local-gov, 240358, HS-grad, 9, ... | >50K],\n",
              "  [17, Private, 110798, 11th, 7, ... | <=50K],\n",
              "  [33, Private, 53042, 12th, 8, ... | <=50K],\n",
              "  [33, State-gov, 156015, Bachelors, 13, ... | >50K],\n",
              "  ...\n",
              " ], [[25, Local-gov, 225193, Bachelors, 13, ... | <=50K],\n",
              "  [35, Private, 54317, HS-grad, 9, ... | <=50K],\n",
              "  [42, Private, 211450, Masters, 14, ... | >50K],\n",
              "  [64, Private, 171373, 11th, 7, ... | <=50K],\n",
              "  [27, Private, 297457, HS-grad, 9, ... | <=50K],\n",
              "  ...\n",
              " ])"
            ]
          },
          "metadata": {
            "tags": []
          },
          "execution_count": 6
        }
      ]
    },
    {
      "cell_type": "markdown",
      "metadata": {
        "id": "m7sICEf7c8v6"
      },
      "source": [
        "# Gerando os conjuntos de treino e de teste"
      ]
    },
    {
      "cell_type": "code",
      "metadata": {
        "id": "eW7aU8GBcrBy"
      },
      "source": [
        "base_treino = base_dividida[1]\n",
        "base_teste = base_dividida[0]"
      ],
      "execution_count": 8,
      "outputs": []
    },
    {
      "cell_type": "markdown",
      "metadata": {
        "id": "JsrPBXgndNIC"
      },
      "source": [
        "Verificando o comprimento da base de treino e de teste"
      ]
    },
    {
      "cell_type": "code",
      "metadata": {
        "colab": {
          "base_uri": "https://localhost:8080/"
        },
        "id": "p0lo5RSqdJqh",
        "outputId": "a3261e55-9ca9-49e5-df36-c9986053f8fa"
      },
      "source": [
        "print(len(base_treino))\n",
        "print(len(base_teste))\n"
      ],
      "execution_count": 9,
      "outputs": [
        {
          "output_type": "stream",
          "text": [
            "22793\n",
            "9768\n"
          ],
          "name": "stdout"
        }
      ]
    },
    {
      "cell_type": "markdown",
      "metadata": {
        "id": "1cRlcqdudjEU"
      },
      "source": [
        "##Gerando as regras com o CN2Learner"
      ]
    },
    {
      "cell_type": "code",
      "metadata": {
        "id": "Y0NxGFoIddiZ"
      },
      "source": [
        "cn2 = Orange.classification.rules.CN2Learner()\n",
        "regras_credit = cn2(base_treino)"
      ],
      "execution_count": 10,
      "outputs": []
    },
    {
      "cell_type": "code",
      "metadata": {
        "id": "8adM-N7tdqgW"
      },
      "source": [
        "for rules in regras_credit.rule_list:\n",
        "  print(rules) # ao rodar esta célula serão impressas todas as regas"
      ],
      "execution_count": null,
      "outputs": []
    },
    {
      "cell_type": "markdown",
      "metadata": {
        "id": "e25hDEf4jBuS"
      },
      "source": [
        "# Testando o desempenho do algoritmo"
      ]
    },
    {
      "cell_type": "code",
      "metadata": {
        "id": "SsBQfj9ji6bA"
      },
      "source": [
        "previsoes = Orange.evaluation.testing.TestOnTestData(base_treino, base_teste, [lambda testdata: regras_credit])"
      ],
      "execution_count": 12,
      "outputs": []
    },
    {
      "cell_type": "markdown",
      "metadata": {
        "id": "stwV04esjRfX"
      },
      "source": [
        "##Avaliação do desempenho do modelo"
      ]
    },
    {
      "cell_type": "code",
      "metadata": {
        "colab": {
          "base_uri": "https://localhost:8080/"
        },
        "id": "aL6bWtiPjNZg",
        "outputId": "cf02b56f-6780-4cc8-c826-0f9e0f8167df"
      },
      "source": [
        "Orange.evaluation.CA(previsoes)"
      ],
      "execution_count": 13,
      "outputs": [
        {
          "output_type": "execute_result",
          "data": {
            "text/plain": [
              "array([0.81531532])"
            ]
          },
          "metadata": {
            "tags": []
          },
          "execution_count": 13
        }
      ]
    },
    {
      "cell_type": "code",
      "metadata": {
        "id": "s4zSexVCjceG"
      },
      "source": [
        ""
      ],
      "execution_count": null,
      "outputs": []
    }
  ]
}