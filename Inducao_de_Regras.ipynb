{
  "nbformat": 4,
  "nbformat_minor": 0,
  "metadata": {
    "colab": {
      "name": "Inducao-de-Regras.ipynb",
      "provenance": [],
      "authorship_tag": "ABX9TyONNofWCBkrwHyOZ8wMS3ft",
      "include_colab_link": true
    },
    "kernelspec": {
      "name": "python3",
      "display_name": "Python 3"
    },
    "language_info": {
      "name": "python"
    }
  },
  "cells": [
    {
      "cell_type": "markdown",
      "metadata": {
        "id": "view-in-github",
        "colab_type": "text"
      },
      "source": [
        "<a href=\"https://colab.research.google.com/github/jscienciadados/rule-induction/blob/main/Inducao_de_Regras.ipynb\" target=\"_parent\"><img src=\"https://colab.research.google.com/assets/colab-badge.svg\" alt=\"Open In Colab\"/></a>"
      ]
    },
    {
      "cell_type": "markdown",
      "metadata": {
        "id": "zAJpBYohHhWp"
      },
      "source": [
        "##Indução de Regras de Risco de Crédito"
      ]
    },
    {
      "cell_type": "code",
      "metadata": {
        "id": "morIFetAHLSa"
      },
      "source": [
        "!pip install Orange3"
      ],
      "execution_count": null,
      "outputs": []
    },
    {
      "cell_type": "code",
      "metadata": {
        "id": "GQpy6BqEHxr8"
      },
      "source": [
        "import Orange"
      ],
      "execution_count": 2,
      "outputs": []
    },
    {
      "cell_type": "markdown",
      "metadata": {
        "id": "Wv-LIhtDISrl"
      },
      "source": [
        "# Carregando a base de Dados"
      ]
    },
    {
      "cell_type": "code",
      "metadata": {
        "id": "aCiha3UULhgp"
      },
      "source": [
        "from Orange.data import Table"
      ],
      "execution_count": 5,
      "outputs": []
    },
    {
      "cell_type": "code",
      "metadata": {
        "id": "iJavGSZAIFpq"
      },
      "source": [
        "base_risco_credito = Table('dados/risco_credito_regras.csv')"
      ],
      "execution_count": 8,
      "outputs": []
    },
    {
      "cell_type": "code",
      "metadata": {
        "colab": {
          "base_uri": "https://localhost:8080/"
        },
        "id": "S95C3x7mJMWc",
        "outputId": "00cf28f6-af4c-412c-be06-7d8bb3c9ac3e"
      },
      "source": [
        "base_risco_credito"
      ],
      "execution_count": 9,
      "outputs": [
        {
          "output_type": "execute_result",
          "data": {
            "text/plain": [
              "[[ruim, alta, nenhuma, 0_15 | alto],\n",
              " [desconhecida, alta, nenhuma, 15_35 | alto],\n",
              " [desconhecida, baixa, nenhuma, 15_35 | moderado],\n",
              " [desconhecida, baixa, nenhuma, acima_35 | alto],\n",
              " [desconhecida, baixa, nenhuma, acima_35 | baixo],\n",
              " ...\n",
              "]"
            ]
          },
          "metadata": {
            "tags": []
          },
          "execution_count": 9
        }
      ]
    },
    {
      "cell_type": "markdown",
      "metadata": {
        "id": "0YeT7d3DMaub"
      },
      "source": [
        "# Verificando o dominio"
      ]
    },
    {
      "cell_type": "code",
      "metadata": {
        "colab": {
          "base_uri": "https://localhost:8080/"
        },
        "id": "NsLpTaD9L4do",
        "outputId": "7feab660-0190-45d8-df59-31f18a6fa166"
      },
      "source": [
        "base_risco_credito.domain"
      ],
      "execution_count": 10,
      "outputs": [
        {
          "output_type": "execute_result",
          "data": {
            "text/plain": [
              "[historia, divida, garantias, renda | risco]"
            ]
          },
          "metadata": {
            "tags": []
          },
          "execution_count": 10
        }
      ]
    },
    {
      "cell_type": "markdown",
      "metadata": {
        "id": "EODHrafWMv86"
      },
      "source": [
        "# Gerando as Regras"
      ]
    },
    {
      "cell_type": "code",
      "metadata": {
        "id": "643fYD97Mgqc"
      },
      "source": [
        "cn2 = Orange.classification.rules.CN2Learner()\n",
        "regras_risco_credito = cn2(base_risco_credito)"
      ],
      "execution_count": 12,
      "outputs": []
    },
    {
      "cell_type": "code",
      "metadata": {
        "colab": {
          "base_uri": "https://localhost:8080/"
        },
        "id": "6IHQvQXHNLIE",
        "outputId": "6ccd1f82-a071-46ec-fa72-9bbaa8281b87"
      },
      "source": [
        "for regras in regras_risco_credito.rule_list:\n",
        "  print(regras)"
      ],
      "execution_count": 13,
      "outputs": [
        {
          "output_type": "stream",
          "text": [
            "IF renda==0_15 THEN risco=alto \n",
            "IF historia==boa AND divida!=alta THEN risco=baixo \n",
            "IF historia==boa AND garantias!=nenhuma THEN risco=baixo \n",
            "IF historia==boa AND renda!=15_35 THEN risco=baixo \n",
            "IF historia==boa THEN risco=moderado \n",
            "IF divida==alta THEN risco=alto \n",
            "IF historia!=desconhecida THEN risco=moderado \n",
            "IF garantias==adequada THEN risco=baixo \n",
            "IF renda==15_35 THEN risco=moderado \n",
            "IF historia==desconhecida THEN risco=baixo \n",
            "IF TRUE THEN risco=alto \n"
          ],
          "name": "stdout"
        }
      ]
    },
    {
      "cell_type": "markdown",
      "metadata": {
        "id": "lYd_GOGyNyC0"
      },
      "source": [
        "historia boa, divida alta, garantias nemhuma, renda > 35\n",
        "\n",
        "historia ruim, divida alta, garantias adequada, renda < 15"
      ]
    },
    {
      "cell_type": "markdown",
      "metadata": {
        "id": "FLnuOlD6ONEI"
      },
      "source": [
        "##Prevendo o crédito de novos clientes"
      ]
    },
    {
      "cell_type": "code",
      "metadata": {
        "id": "sw9OrvwHNcRy"
      },
      "source": [
        "previsoes = regras_risco_credito([['boa', 'alta', 'nenhuma', 'acima_35'], ['ruim', 'alta', 'adequada', '0_15']])"
      ],
      "execution_count": 15,
      "outputs": []
    },
    {
      "cell_type": "code",
      "metadata": {
        "colab": {
          "base_uri": "https://localhost:8080/"
        },
        "id": "Oc4zigUoPF39",
        "outputId": "d4c6481e-88b7-42ad-8355-e9b300b42298"
      },
      "source": [
        "previsoes"
      ],
      "execution_count": 16,
      "outputs": [
        {
          "output_type": "execute_result",
          "data": {
            "text/plain": [
              "array([1, 0])"
            ]
          },
          "metadata": {
            "tags": []
          },
          "execution_count": 16
        }
      ]
    },
    {
      "cell_type": "markdown",
      "metadata": {
        "id": "M0rZL61APiMI"
      },
      "source": [
        "Interpretando o Resultado"
      ]
    },
    {
      "cell_type": "code",
      "metadata": {
        "colab": {
          "base_uri": "https://localhost:8080/"
        },
        "id": "w9VCeOIRPQMI",
        "outputId": "4fe3ba53-6345-4731-fe4b-e5794eab1ea0"
      },
      "source": [
        "base_risco_credito.domain.class_var"
      ],
      "execution_count": 17,
      "outputs": [
        {
          "output_type": "execute_result",
          "data": {
            "text/plain": [
              "DiscreteVariable(name='risco', values=('alto', 'baixo', 'moderado'))"
            ]
          },
          "metadata": {
            "tags": []
          },
          "execution_count": 17
        }
      ]
    },
    {
      "cell_type": "code",
      "metadata": {
        "colab": {
          "base_uri": "https://localhost:8080/"
        },
        "id": "lxTfcyZiPsiO",
        "outputId": "066f677c-46e4-4530-9eea-5ac5bb2c37ec"
      },
      "source": [
        "for i in previsoes:\n",
        "  print(base_risco_credito.domain.class_var.values[i])"
      ],
      "execution_count": 18,
      "outputs": [
        {
          "output_type": "stream",
          "text": [
            "baixo\n",
            "alto\n"
          ],
          "name": "stdout"
        }
      ]
    },
    {
      "cell_type": "markdown",
      "metadata": {
        "id": "hgjb9kNyR2fA"
      },
      "source": [
        "##Base Credit Data"
      ]
    },
    {
      "cell_type": "code",
      "metadata": {
        "id": "JrrwL5jRQF7b"
      },
      "source": [
        "base_credit = Orange.data.Table('dados/credit_data_regras.csv')"
      ],
      "execution_count": 19,
      "outputs": []
    },
    {
      "cell_type": "markdown",
      "metadata": {
        "id": "3TeFpdASSQdH"
      },
      "source": [
        "# Visualizando os dados"
      ]
    },
    {
      "cell_type": "code",
      "metadata": {
        "colab": {
          "base_uri": "https://localhost:8080/"
        },
        "id": "GcrN7dsLSKIU",
        "outputId": "d6ea2a69-a9c2-4b63-b555-7dc0dd311517"
      },
      "source": [
        "base_credit"
      ],
      "execution_count": 20,
      "outputs": [
        {
          "output_type": "execute_result",
          "data": {
            "text/plain": [
              "[[66155.9, 59.017, 8106.53 | 0],\n",
              " [34415.2, 48.1172, 6564.75 | 0],\n",
              " [57317.2, 63.108, 8020.95 | 0],\n",
              " [42709.5, 45.752, 6103.64 | 0],\n",
              " [66952.7, 18.5843, 8770.1 | 1],\n",
              " ...\n",
              "]"
            ]
          },
          "metadata": {
            "tags": []
          },
          "execution_count": 20
        }
      ]
    },
    {
      "cell_type": "code",
      "metadata": {
        "colab": {
          "base_uri": "https://localhost:8080/"
        },
        "id": "SoVrG1rcSO_m",
        "outputId": "08fefbca-2a12-4a9a-d0dd-2a6ba50613b9"
      },
      "source": [
        "base_credit.domain"
      ],
      "execution_count": 21,
      "outputs": [
        {
          "output_type": "execute_result",
          "data": {
            "text/plain": [
              "[income, age, loan | default]"
            ]
          },
          "metadata": {
            "tags": []
          },
          "execution_count": 21
        }
      ]
    },
    {
      "cell_type": "markdown",
      "metadata": {
        "id": "PwmV72NrSxkv"
      },
      "source": [
        "# Dividindo os dados em treino e teste"
      ]
    },
    {
      "cell_type": "code",
      "metadata": {
        "id": "CK-Vh6b7ScVU"
      },
      "source": [
        "base_dividida = Orange.evaluation.testing.sample(base_credit, n = 0.25)"
      ],
      "execution_count": 22,
      "outputs": []
    },
    {
      "cell_type": "code",
      "metadata": {
        "colab": {
          "base_uri": "https://localhost:8080/"
        },
        "id": "5YwhSgTUTEli",
        "outputId": "224b0394-f384-4d01-e33a-ebd0f3a45c7e"
      },
      "source": [
        "base_dividida"
      ],
      "execution_count": 23,
      "outputs": [
        {
          "output_type": "execute_result",
          "data": {
            "text/plain": [
              "([[63271.6, 23.3421, 11298.2 | 1],\n",
              "  [62908.4, 51.1468, 3213.9 | 0],\n",
              "  [28482.6, 19.7838, 329.45 | 0],\n",
              "  [34475.2, 42.3079, 3162.13 | 0],\n",
              "  [26316.8, 37.2177, 923.028 | 0],\n",
              "  ...\n",
              " ], [[27845.8, 51.9706, 4959.92 | 0],\n",
              "  [43489.8, 51.7338, 6501.04 | 0],\n",
              "  [56530.5, 45.5449, 5957.99 | 0],\n",
              "  [53239.5, 63.5151, 4606.16 | 0],\n",
              "  [29672.6, 51.0198, 607.909 | 0],\n",
              "  ...\n",
              " ])"
            ]
          },
          "metadata": {
            "tags": []
          },
          "execution_count": 23
        }
      ]
    },
    {
      "cell_type": "markdown",
      "metadata": {
        "id": "SdpgS6bGTScW"
      },
      "source": [
        "# Gerando os dados de treinamento e de teste"
      ]
    },
    {
      "cell_type": "code",
      "metadata": {
        "id": "TjO9NI6iTI-Q"
      },
      "source": [
        "base_treino = base_dividida[1]\n",
        "base_teste = base_dividida[0]"
      ],
      "execution_count": 24,
      "outputs": []
    },
    {
      "cell_type": "code",
      "metadata": {
        "colab": {
          "base_uri": "https://localhost:8080/"
        },
        "id": "zr3w_WBHTjzI",
        "outputId": "e7b7d6e6-5b18-4788-b7bf-cb2f9dc64167"
      },
      "source": [
        "print(len(base_treino))\n",
        "print(len(base_teste))"
      ],
      "execution_count": 25,
      "outputs": [
        {
          "output_type": "stream",
          "text": [
            "1500\n",
            "500\n"
          ],
          "name": "stdout"
        }
      ]
    },
    {
      "cell_type": "markdown",
      "metadata": {
        "id": "rTIsoIBrTzT9"
      },
      "source": [
        "##Gerando as regras com o CN2Learner"
      ]
    },
    {
      "cell_type": "code",
      "metadata": {
        "id": "ux5ssVP2TwuT"
      },
      "source": [
        "cn2 = Orange.classification.rules.CN2Learner()\n",
        "regras_credit = cn2(base_treino)"
      ],
      "execution_count": 27,
      "outputs": []
    },
    {
      "cell_type": "code",
      "metadata": {
        "colab": {
          "base_uri": "https://localhost:8080/"
        },
        "id": "JYnrzR-EURCJ",
        "outputId": "39907c1c-5f2f-401d-aecd-ee77a8a8cabe"
      },
      "source": [
        "for rules in regras_credit.rule_list:\n",
        "  print(rules)"
      ],
      "execution_count": 28,
      "outputs": [
        {
          "output_type": "stream",
          "text": [
            "IF age>=34.9257164876908 THEN default=0 \n",
            "IF loan<=2495.13299137587 AND income>=20511.4294355735 THEN default=0 \n",
            "IF loan>=7498.630446855849 AND age>=18.3097456344403 THEN default=1 \n",
            "IF income>=54748.9123116247 AND income>=56846.4742321521 THEN default=0 \n",
            "IF loan>=5785.88427485782 AND loan>=6241.27050834808 THEN default=1 \n",
            "IF income>=48790.1324336417 AND income>=50360.6787929311 THEN default=0 \n",
            "IF age>=34.7514377613552 THEN default=1 \n",
            "IF loan>=5785.88427485782 THEN default=1 \n",
            "IF income<=31702.3342987522 AND age>=34.7410444347188 THEN default=0 \n",
            "IF income<=31702.3342987522 AND loan>=3665.88089899456 THEN default=1 \n",
            "IF age>=34.669146894011604 THEN default=1 \n",
            "IF age>=34.1016539284028 THEN default=0 \n",
            "IF age>=33.804503521882 THEN default=1 \n",
            "IF age>=30.676849837880603 AND income>=29724.4768752716 THEN default=0 \n",
            "IF age>=30.132575557101497 AND loan>=2971.00330971188 THEN default=1 \n",
            "IF income<=22089.8374845274 AND age>=21.3656869572587 THEN default=1 \n",
            "IF income>=45971.133494749694 THEN default=0 \n",
            "IF age>=28.4226720966399 THEN default=0 \n",
            "IF age>=27.873486188706003 THEN default=1 \n",
            "IF loan>=4859.2352866332 AND age>=18.9473467003554 THEN default=1 \n",
            "IF income>=29775.1422203146 THEN default=0 \n",
            "IF income>=25640.0788831525 THEN default=1 \n",
            "IF income<=25146.5956843458 THEN default=0 \n",
            "IF TRUE THEN default=0 \n"
          ],
          "name": "stdout"
        }
      ]
    },
    {
      "cell_type": "markdown",
      "metadata": {
        "id": "2KdxIyFBVTP9"
      },
      "source": [
        "# Testando o algoritmo"
      ]
    },
    {
      "cell_type": "code",
      "metadata": {
        "id": "bPVmTxb4UiRO"
      },
      "source": [
        "previsoes = Orange.evaluation.testing.TestOnTestData(base_treino, base_teste, [lambda testdata: regras_credit])"
      ],
      "execution_count": 29,
      "outputs": []
    },
    {
      "cell_type": "code",
      "metadata": {
        "colab": {
          "base_uri": "https://localhost:8080/"
        },
        "id": "XASzBU-ZVuYJ",
        "outputId": "4cff3e1c-5207-4564-a3ff-1a3055f90b30"
      },
      "source": [
        "previsoes"
      ],
      "execution_count": 30,
      "outputs": [
        {
          "output_type": "execute_result",
          "data": {
            "text/plain": [
              "<Orange.evaluation.testing.Results at 0x7f5b341fcbd0>"
            ]
          },
          "metadata": {
            "tags": []
          },
          "execution_count": 30
        }
      ]
    },
    {
      "cell_type": "markdown",
      "metadata": {
        "id": "75fsLhTjV4fm"
      },
      "source": [
        "# Avaliação do desempenho do modelo"
      ]
    },
    {
      "cell_type": "code",
      "metadata": {
        "colab": {
          "base_uri": "https://localhost:8080/"
        },
        "id": "fw19zDO3VwPt",
        "outputId": "3e8dbd77-8c50-448b-ddfa-1448ef4b7324"
      },
      "source": [
        "Orange.evaluation.CA(previsoes)"
      ],
      "execution_count": 31,
      "outputs": [
        {
          "output_type": "execute_result",
          "data": {
            "text/plain": [
              "array([0.97])"
            ]
          },
          "metadata": {
            "tags": []
          },
          "execution_count": 31
        }
      ]
    },
    {
      "cell_type": "code",
      "metadata": {
        "id": "5UV2TvKWWEtq"
      },
      "source": [
        ""
      ],
      "execution_count": null,
      "outputs": []
    }
  ]
}